{
 "cells": [
  {
   "cell_type": "markdown",
   "metadata": {},
   "source": [
    "# Introduction to Time Series in Python"
   ]
  },
  {
   "cell_type": "markdown",
   "metadata": {},
   "source": [
    "## Overview"
   ]
  },
  {
   "cell_type": "markdown",
   "metadata": {},
   "source": [
    "- Time series is a sequence of data points ordered chronologically.\n",
    "- Each data point is associated with a timestamp.\n",
    "- The interval between two data points is called **time-period**.\n",
    "- Frequency refers to how often values a recorded ranging from milliseconds to years. \n",
    "- Time periods between all data points must be equal i.e. have constant frequency.\n",
    "- Patterns observed in time- eries data are expected to be present in the future.\n",
    "- Data are usually **time-dependent**. This means that data points are affected by external factors and by the past periods. E.g. we expect tomorrows temperature outside to be within some reasonable proximity of the temperature today\n",
    "- **Seasonality** refers to the periodic fluctuations of a time series in which the data contains regular and predictable changes. These patterns must be taken into account when making predictions. Seasonality is not a trait of cross-sectional data because there are no chronological order in these data.\n",
    "\n",
    "<img src=\"figures/edited-apparel-seasonality.jpeg\" width=\"600\" />"
   ]
  },
  {
   "cell_type": "markdown",
   "metadata": {},
   "source": [
    "## Notation"
   ]
  },
  {
   "cell_type": "markdown",
   "metadata": {},
   "source": [
    "- $\\mathbf{X}$ denotes the data\n",
    "- $T$ denotes the entire time span of the data\n",
    "- $t$ a single period e.g. a single day\n",
    "- $\\mathbf{X}_t$ denotes the data for a single day"
   ]
  },
  {
   "cell_type": "code",
   "execution_count": null,
   "metadata": {},
   "outputs": [],
   "source": []
  }
 ],
 "metadata": {
  "kernelspec": {
   "display_name": "Python 3",
   "language": "python",
   "name": "python3"
  },
  "language_info": {
   "codemirror_mode": {
    "name": "ipython",
    "version": 3
   },
   "file_extension": ".py",
   "mimetype": "text/x-python",
   "name": "python",
   "nbconvert_exporter": "python",
   "pygments_lexer": "ipython3",
   "version": "3.8.2"
  }
 },
 "nbformat": 4,
 "nbformat_minor": 4
}
